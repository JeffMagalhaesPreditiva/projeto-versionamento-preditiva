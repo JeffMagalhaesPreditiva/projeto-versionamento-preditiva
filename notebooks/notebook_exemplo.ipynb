{
 "cells": [
  {
   "cell_type": "markdown",
   "metadata": {},
   "source": [
    "# Introdução"
   ]
  },
  {
   "cell_type": "markdown",
   "metadata": {},
   "source": [
    "## Objetivo"
   ]
  },
  {
   "cell_type": "markdown",
   "metadata": {},
   "source": [
    "Com a finalidade de entender melhor o perfil dos clientes para potencializar a venda de um produto de investimento, a área de marketing criou uma campanha selecionando alguns clientes para realizar a oferta. A duração da campanha foi de 3 meses e abrangeu todo o Brasil. \n",
    "\n",
    "Finalizada a campanha, o marketing disponibilizou a base de dados bank_marketing.xlsx (disponível em Materiais Complementares) e solicitou uma análise do perfil dos clientes à área de Analytics. A expectativa é que esse estudo forneça informações suficientes para que as próximas campanhas sejam direcionadas para o público mais propenso a comprar o produto de investimento."
   ]
  },
  {
   "cell_type": "markdown",
   "metadata": {},
   "source": [
    "## Planejamento"
   ]
  },
  {
   "cell_type": "markdown",
   "metadata": {},
   "source": [
    "* Realizar uma Análise Exploratória buscando por insights sobre a venda dos títulos, o perfil dos clientes: Idade, Profissão, Estado Civil, Formação, Situação de Crédito e sobre a utilização de outros produtos: Hipoteca e Empréstimo.\n",
    "* Construir um relatório que embase com dados os insights encontrados, e traduza termos mais técnicos para a linguagem de negócios."
   ]
  },
  {
   "cell_type": "markdown",
   "metadata": {},
   "source": [
    "# Configurações"
   ]
  },
  {
   "cell_type": "code",
   "execution_count": 5,
   "metadata": {},
   "outputs": [],
   "source": [
    "import pandas as pd\n",
    "import matplotlib.pyplot as plt"
   ]
  },
  {
   "cell_type": "markdown",
   "metadata": {},
   "source": [
    "## Funções"
   ]
  },
  {
   "cell_type": "code",
   "execution_count": null,
   "metadata": {},
   "outputs": [],
   "source": [
    "def freq_tab(df, var):\n",
    "    \"\"\"\n",
    "    Esta função tem o objetivo de criar uma tabela de frequência com base em um dataframe e uma variável do dataframe\n",
    "\n",
    "    :param df: dataframe com as ocorrências únicas (importante cada ocorrência ser única, pois é realizada uma contagem)\n",
    "    :param var: nome da variável que deseja-se analisar a tabela de frequência \n",
    "\n",
    "    :return: tabela de frequência com frequências absolutas e relativas\n",
    "    \"\"\"\n",
    "\n",
    "    return pd.DataFrame({'freq_abs': df[[var]].value_counts(), 'freq_rel': df[[var]].value_counts(normalize=True)})"
   ]
  },
  {
   "cell_type": "markdown",
   "metadata": {},
   "source": [
    "# Coleta dos dados"
   ]
  },
  {
   "cell_type": "code",
   "execution_count": 2,
   "metadata": {},
   "outputs": [],
   "source": [
    "bank_mkt = pd.read_excel(\"../data/raw/bank_marketing.xlsx\", skiprows= 1, usecols= 'B:K')"
   ]
  },
  {
   "cell_type": "code",
   "execution_count": 3,
   "metadata": {},
   "outputs": [],
   "source": [
    "#ajustar o nome das variáveis para facilitar manipulação \n",
    "bank_mkt.columns = ['comprou_titulo', 'idade', 'profissao', 'estado_civil', 'formacao', 'cliente_devedor', 'saldo_cc', 'hipoteca', 'emprestimo', 'qtd_ligacoes']"
   ]
  },
  {
   "cell_type": "code",
   "execution_count": 4,
   "metadata": {},
   "outputs": [
    {
     "data": {
      "text/html": [
       "<div>\n",
       "<style scoped>\n",
       "    .dataframe tbody tr th:only-of-type {\n",
       "        vertical-align: middle;\n",
       "    }\n",
       "\n",
       "    .dataframe tbody tr th {\n",
       "        vertical-align: top;\n",
       "    }\n",
       "\n",
       "    .dataframe thead th {\n",
       "        text-align: right;\n",
       "    }\n",
       "</style>\n",
       "<table border=\"1\" class=\"dataframe\">\n",
       "  <thead>\n",
       "    <tr style=\"text-align: right;\">\n",
       "      <th></th>\n",
       "      <th>comprou_titulo</th>\n",
       "      <th>idade</th>\n",
       "      <th>profissao</th>\n",
       "      <th>estado_civil</th>\n",
       "      <th>formacao</th>\n",
       "      <th>cliente_devedor</th>\n",
       "      <th>saldo_cc</th>\n",
       "      <th>hipoteca</th>\n",
       "      <th>emprestimo</th>\n",
       "      <th>qtd_ligacoes</th>\n",
       "    </tr>\n",
       "  </thead>\n",
       "  <tbody>\n",
       "    <tr>\n",
       "      <th>0</th>\n",
       "      <td>Não</td>\n",
       "      <td>33</td>\n",
       "      <td>Operário</td>\n",
       "      <td>Casado</td>\n",
       "      <td>Ensino Médio</td>\n",
       "      <td>Não</td>\n",
       "      <td>263</td>\n",
       "      <td>Sim</td>\n",
       "      <td>Não</td>\n",
       "      <td>3</td>\n",
       "    </tr>\n",
       "    <tr>\n",
       "      <th>1</th>\n",
       "      <td>Não</td>\n",
       "      <td>58</td>\n",
       "      <td>Aposentado</td>\n",
       "      <td>Casado</td>\n",
       "      <td>Ensino Médio</td>\n",
       "      <td>Não</td>\n",
       "      <td>19</td>\n",
       "      <td>Não</td>\n",
       "      <td>Sim</td>\n",
       "      <td>3</td>\n",
       "    </tr>\n",
       "    <tr>\n",
       "      <th>2</th>\n",
       "      <td>Sim</td>\n",
       "      <td>83</td>\n",
       "      <td>Aposentado</td>\n",
       "      <td>Casado</td>\n",
       "      <td>Fundamental</td>\n",
       "      <td>Não</td>\n",
       "      <td>425</td>\n",
       "      <td>Não</td>\n",
       "      <td>Não</td>\n",
       "      <td>1</td>\n",
       "    </tr>\n",
       "    <tr>\n",
       "      <th>3</th>\n",
       "      <td>Sim</td>\n",
       "      <td>32</td>\n",
       "      <td>Administrador</td>\n",
       "      <td>Solteiro</td>\n",
       "      <td>Ensino Superior</td>\n",
       "      <td>Não</td>\n",
       "      <td>10281</td>\n",
       "      <td>Não</td>\n",
       "      <td>Não</td>\n",
       "      <td>1</td>\n",
       "    </tr>\n",
       "    <tr>\n",
       "      <th>4</th>\n",
       "      <td>Sim</td>\n",
       "      <td>31</td>\n",
       "      <td>Administrador</td>\n",
       "      <td>Solteiro</td>\n",
       "      <td>Ensino Médio</td>\n",
       "      <td>Não</td>\n",
       "      <td>360</td>\n",
       "      <td>Sim</td>\n",
       "      <td>Não</td>\n",
       "      <td>1</td>\n",
       "    </tr>\n",
       "  </tbody>\n",
       "</table>\n",
       "</div>"
      ],
      "text/plain": [
       "  comprou_titulo  idade      profissao estado_civil         formacao  \\\n",
       "0            Não     33       Operário       Casado     Ensino Médio   \n",
       "1            Não     58     Aposentado       Casado     Ensino Médio   \n",
       "2            Sim     83     Aposentado       Casado      Fundamental   \n",
       "3            Sim     32  Administrador     Solteiro  Ensino Superior   \n",
       "4            Sim     31  Administrador     Solteiro     Ensino Médio   \n",
       "\n",
       "  cliente_devedor  saldo_cc hipoteca emprestimo  qtd_ligacoes  \n",
       "0             Não       263      Sim        Não             3  \n",
       "1             Não        19      Não        Sim             3  \n",
       "2             Não       425      Não        Não             1  \n",
       "3             Não     10281      Não        Não             1  \n",
       "4             Não       360      Sim        Não             1  "
      ]
     },
     "execution_count": 4,
     "metadata": {},
     "output_type": "execute_result"
    }
   ],
   "source": [
    "#verificando se o dado está consistente\n",
    "bank_mkt.head()"
   ]
  },
  {
   "cell_type": "markdown",
   "metadata": {},
   "source": [
    "# Análise Exploratória"
   ]
  },
  {
   "cell_type": "markdown",
   "metadata": {},
   "source": [
    "## Análise Univariada \n",
    "\n",
    "Objetivo: Entender as variáveis da base e descrever o comportamento de cada uma delas"
   ]
  },
  {
   "cell_type": "code",
   "execution_count": 5,
   "metadata": {},
   "outputs": [
    {
     "name": "stdout",
     "output_type": "stream",
     "text": [
      "<class 'pandas.core.frame.DataFrame'>\n",
      "RangeIndex: 9684 entries, 0 to 9683\n",
      "Data columns (total 10 columns):\n",
      " #   Column           Non-Null Count  Dtype \n",
      "---  ------           --------------  ----- \n",
      " 0   comprou_titulo   9684 non-null   object\n",
      " 1   idade            9684 non-null   int64 \n",
      " 2   profissao        9684 non-null   object\n",
      " 3   estado_civil     9684 non-null   object\n",
      " 4   formacao         9684 non-null   object\n",
      " 5   cliente_devedor  9684 non-null   object\n",
      " 6   saldo_cc         9684 non-null   int64 \n",
      " 7   hipoteca         9684 non-null   object\n",
      " 8   emprestimo       9684 non-null   object\n",
      " 9   qtd_ligacoes     9684 non-null   int64 \n",
      "dtypes: int64(3), object(7)\n",
      "memory usage: 756.7+ KB\n"
     ]
    }
   ],
   "source": [
    "bank_mkt.info() #tipo das variáveis"
   ]
  },
  {
   "cell_type": "markdown",
   "metadata": {},
   "source": [
    "### Comprou título"
   ]
  },
  {
   "cell_type": "code",
   "execution_count": 11,
   "metadata": {},
   "outputs": [
    {
     "data": {
      "text/html": [
       "<div>\n",
       "<style scoped>\n",
       "    .dataframe tbody tr th:only-of-type {\n",
       "        vertical-align: middle;\n",
       "    }\n",
       "\n",
       "    .dataframe tbody tr th {\n",
       "        vertical-align: top;\n",
       "    }\n",
       "\n",
       "    .dataframe thead th {\n",
       "        text-align: right;\n",
       "    }\n",
       "</style>\n",
       "<table border=\"1\" class=\"dataframe\">\n",
       "  <thead>\n",
       "    <tr style=\"text-align: right;\">\n",
       "      <th></th>\n",
       "      <th>freq_abs</th>\n",
       "      <th>freq_rel</th>\n",
       "    </tr>\n",
       "    <tr>\n",
       "      <th>comprou_titulo</th>\n",
       "      <th></th>\n",
       "      <th></th>\n",
       "    </tr>\n",
       "  </thead>\n",
       "  <tbody>\n",
       "    <tr>\n",
       "      <th>Não</th>\n",
       "      <td>4906</td>\n",
       "      <td>0.506609</td>\n",
       "    </tr>\n",
       "    <tr>\n",
       "      <th>Sim</th>\n",
       "      <td>4778</td>\n",
       "      <td>0.493391</td>\n",
       "    </tr>\n",
       "  </tbody>\n",
       "</table>\n",
       "</div>"
      ],
      "text/plain": [
       "                freq_abs  freq_rel\n",
       "comprou_titulo                    \n",
       "Não                 4906  0.506609\n",
       "Sim                 4778  0.493391"
      ]
     },
     "execution_count": 11,
     "metadata": {},
     "output_type": "execute_result"
    }
   ],
   "source": [
    "freq_comprou_titulo = freq_tab(bank_mkt, 'comprou_titulo')\n",
    "freq_comprou_titulo"
   ]
  },
  {
   "cell_type": "code",
   "execution_count": 12,
   "metadata": {},
   "outputs": [
    {
     "data": {
      "text/plain": [
       "<Axes: ylabel='freq_rel'>"
      ]
     },
     "execution_count": 12,
     "metadata": {},
     "output_type": "execute_result"
    },
    {
     "data": {
      "image/png": "[encoded data removed]",
      "text/plain": [
       "<Figure size 640x480 with 1 Axes>"
      ]
     },
     "metadata": {},
     "output_type": "display_data"
    }
   ],
   "source": [
    "freq_comprou_titulo.plot.pie(y='freq_rel')"
   ]
  },
  {
   "cell_type": "markdown",
   "metadata": {},
   "source": [
    "**Insights:**"
   ]
  },
  {
   "cell_type": "markdown",
   "metadata": {},
   "source": [
    "## Análise Bivariada \n",
    "\n",
    "Objetivo: Entender a relação entre as variáveis"
   ]
  },
  {
   "cell_type": "code",
   "execution_count": null,
   "metadata": {},
   "outputs": [],
   "source": []
  },
  {
   "cell_type": "markdown",
   "metadata": {},
   "source": [
    "# Conclusões"
   ]
  },
  {
   "cell_type": "markdown",
   "metadata": {},
   "source": []
  },
  {
   "cell_type": "markdown",
   "metadata": {},
   "source": [
    "# Próximos passos"
   ]
  },
  {
   "cell_type": "markdown",
   "metadata": {},
   "source": []
  }
 ],
 "metadata": {
  "kernelspec": {
   "display_name": ".venv",
   "language": "python",
   "name": "python3"
  },
  "language_info": {
   "codemirror_mode": {
    "name": "ipython",
    "version": 3
   },
   "file_extension": ".py",
   "mimetype": "text/x-python",
   "name": "python",
   "nbconvert_exporter": "python",
   "pygments_lexer": "ipython3",
   "version": "3.12.5"
  }
 },
 "nbformat": 4,
 "nbformat_minor": 2
}
